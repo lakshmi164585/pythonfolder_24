{
 "cells": [
  {
   "cell_type": "code",
   "execution_count": null,
   "metadata": {},
   "outputs": [],
   "source": [
    "sentence = \"i love PYTHON\"\n",
    "\n",
    "# converts first character to uppercase and others to lowercase\n",
    "capitalized_string = sentence.capitalize()\n",
    "\n",
    "print(capitalized_string)\n",
    "\n",
    "# Output: I love python"
   ]
  },
  {
   "cell_type": "code",
   "execution_count": null,
   "metadata": {
    "vscode": {
     "languageId": "art"
    }
   },
   "outputs": [],
   "source": [
    "sentense = \"hi i am lakshmi and i was doing script on python programming language so could you please help me on this script\"\n",
    "\n",
    "print('Number of occurrence of i:', message.count('i'))"
   ]
  }
 ],
 "metadata": {
  "language_info": {
   "name": "python"
  }
 },
 "nbformat": 4,
 "nbformat_minor": 2
}
